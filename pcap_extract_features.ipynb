{
 "cells": [
  {
   "cell_type": "code",
   "execution_count": 1,
   "id": "798812bd-a19d-44ec-a3e9-ed269495a4d3",
   "metadata": {},
   "outputs": [
    {
     "name": "stdout",
     "output_type": "stream",
     "text": [
      "Requirement already satisfied: pyshark in c:\\users\\dell\\anaconda3\\lib\\site-packages (0.6)\n",
      "Requirement already satisfied: lxml in c:\\users\\dell\\anaconda3\\lib\\site-packages (from pyshark) (5.2.1)\n",
      "Requirement already satisfied: termcolor in c:\\users\\dell\\anaconda3\\lib\\site-packages (from pyshark) (3.1.0)\n",
      "Requirement already satisfied: packaging in c:\\users\\dell\\anaconda3\\lib\\site-packages (from pyshark) (24.1)\n",
      "Requirement already satisfied: appdirs in c:\\users\\dell\\anaconda3\\lib\\site-packages (from pyshark) (1.4.4)\n",
      "Requirement already satisfied: nest_asyncio in c:\\users\\dell\\anaconda3\\lib\\site-packages (1.6.0)\n"
     ]
    }
   ],
   "source": [
    "!pip install pyshark\n",
    "!pip install nest_asyncio\n",
    "\n"
   ]
  },
  {
   "cell_type": "code",
   "execution_count": 1,
   "id": "bf364dcf-ce58-4e77-adba-e7fc1f640295",
   "metadata": {},
   "outputs": [
    {
     "name": "stdout",
     "output_type": "stream",
     "text": [
      "\n",
      "Extracted Top Features:\n",
      "bytecount: 6548916\n",
      "flows: 28640\n",
      "dt: 1.0170550258512514e-05\n",
      "dur: 0.7633709907531738\n",
      "pktrate: 98324.40701728086\n",
      "pktperflow: 2.620740223463687\n",
      "rx_bytes: 0\n",
      "tx_bytes: 6548916\n"
     ]
    }
   ],
   "source": [
    "import pyshark\n",
    "import nest_asyncio\n",
    "from collections import defaultdict\n",
    "\n",
    "nest_asyncio.apply()\n",
    "\n",
    "# Load pcap file\n",
    "cap = pyshark.FileCapture('pkt.IPV4.randomprotofield.pcap')\n",
    "\n",
    "bytecount = 0\n",
    "flow_set = set()\n",
    "flow_pkt_count = defaultdict(int)\n",
    "pkt_times = []\n",
    "\n",
    "pktcount = 0\n",
    "start_time = None\n",
    "end_time = None\n",
    "\n",
    "for pkt in cap:\n",
    "    try:\n",
    "        src = pkt.ip.src\n",
    "        dst = pkt.ip.dst\n",
    "        size = int(pkt.length)\n",
    "        timestamp = float(pkt.sniff_timestamp)\n",
    "\n",
    "        # Set start and end time\n",
    "        if start_time is None:\n",
    "            start_time = timestamp\n",
    "        end_time = timestamp\n",
    "\n",
    "        pktcount += 1\n",
    "        bytecount += size\n",
    "\n",
    "        flow_id = (src, dst)\n",
    "        flow_set.add(flow_id)\n",
    "        flow_pkt_count[flow_id] += 1\n",
    "\n",
    "        pkt_times.append(timestamp)\n",
    "\n",
    "    except AttributeError:\n",
    "        continue\n",
    "\n",
    "cap.close()\n",
    "\n",
    "# Feature Calculations\n",
    "flows = len(flow_set)\n",
    "dur = end_time - start_time if start_time and end_time else 0\n",
    "\n",
    "dt = 0\n",
    "if len(pkt_times) >= 2:\n",
    "    deltas = [pkt_times[i+1] - pkt_times[i] for i in range(len(pkt_times)-1)]\n",
    "    dt = sum(deltas) / len(deltas)\n",
    "\n",
    "pktrate = pktcount / dur if dur else 0\n",
    "pktperflow = pktcount / flows if flows else 0\n",
    "\n",
    "tx_bytes = bytecount\n",
    "rx_bytes = 0  # Optional: use directional logic if needed\n",
    "\n",
    "# Final top features\n",
    "features = {\n",
    "    \"bytecount\": bytecount,\n",
    "    \"flows\": flows,\n",
    "    \"dt\": dt,\n",
    "    \"dur\": dur,\n",
    "    \"pktrate\": pktrate,\n",
    "    \"pktperflow\": pktperflow,\n",
    "    \"rx_bytes\": rx_bytes,\n",
    "    \"tx_bytes\": tx_bytes\n",
    "}\n",
    "\n",
    "# Output\n",
    "print(\"\\nExtracted Top Features:\")\n",
    "for key in features:\n",
    "    print(f\"{key}: {features[key]}\")\n"
   ]
  },
  {
   "cell_type": "code",
   "execution_count": null,
   "id": "c99d2709-fff3-4e84-99bf-5779ce6bbfdc",
   "metadata": {},
   "outputs": [],
   "source": []
  }
 ],
 "metadata": {
  "kernelspec": {
   "display_name": "Python 3 (ipykernel)",
   "language": "python",
   "name": "python3"
  },
  "language_info": {
   "codemirror_mode": {
    "name": "ipython",
    "version": 3
   },
   "file_extension": ".py",
   "mimetype": "text/x-python",
   "name": "python",
   "nbconvert_exporter": "python",
   "pygments_lexer": "ipython3",
   "version": "3.12.7"
  }
 },
 "nbformat": 4,
 "nbformat_minor": 5
}
